{
 "cells": [
  {
   "cell_type": "markdown",
   "id": "803a8fa4",
   "metadata": {},
   "source": [
    "# Data Science Tools and Ecosystem"
   ]
  },
  {
   "cell_type": "markdown",
   "id": "30e9987b",
   "metadata": {},
   "source": [
    "In this notebook, Data Science Tools and Ecosystem are summarized."
   ]
  },
  {
   "cell_type": "markdown",
   "id": "783b1a71",
   "metadata": {},
   "source": [
    "**Objectives:**\n",
    "- List popular Data Science Languages.\n",
    "- Some of the commonly used libraries in Data Science.\n",
    "- Data Science Tool and their purpose.\n",
    "- Define basic airthematic expressio and their examples."
   ]
  },
  {
   "cell_type": "markdown",
   "id": "e4d2d11b",
   "metadata": {},
   "source": [
    "Some of the Popular languages that Data Scientists use are:\n",
    "1. Python\n",
    "2. R\n",
    "3. SQL"
   ]
  },
  {
   "cell_type": "markdown",
   "id": "c43a26f6",
   "metadata": {},
   "source": [
    "Some of the commonly used libraries used by Data Scientists include:\n",
    "1. pandas\n",
    "2. NumPy\n",
    "3. matplotlib/seaborn/ploty\n",
    "4. scikit-learn\n",
    "5. ggplot2\n",
    "6. caret"
   ]
  },
  {
   "cell_type": "markdown",
   "id": "15425690",
   "metadata": {},
   "source": [
    "| Data Science Tool     | Purpose                                         | Language Support  |\n",
    "|-----------------------|-------------------------------------------------|-------------------|\n",
    "| **Jupyter Notebook**   | Interactive coding environment                  | Python, R         |\n",
    "| **Pandas**             | Data manipulation and analysis                  | Python            |\n",
    "| **NumPy**              | Numerical computing with multi-dimensional arrays| Python            |\n",
    "| **TensorFlow**         | Deep learning framework                         | Python            |\n",
    "| **Keras**              | High-level neural networks API                  | Python            |\n",
    "| **PyTorch**            | Deep learning framework                         | Python            |\n",
    "| **Scikit-learn**       | Machine learning library                        | Python            |\n",
    "| **RStudio**            | IDE for R programming and data analysis         | R                 |\n",
    "| **MATLAB**             | Numerical computing and data visualization      | MATLAB            |\n",
    "| **Tableau**            | Data visualization and business intelligence    | -                 |\n",
    "| **Power BI**           | Data visualization and business analytics       | -                 |\n"
   ]
  },
  {
   "cell_type": "markdown",
   "id": "fdc69c2f",
   "metadata": {},
   "source": [
    "### Below are a few examples of evaluating airthmetic expressions in python.\n",
    "\n",
    "- **Addition (`+`)**: Adds two numbers.\n",
    "- **Subtraction (`-`)**: Subtracts the second number from the first.\n",
    "- **Multiplication (`*`)**: Multiplies two numbers.\n",
    "- **Division (`/`)**: Divides the first number by the second.\n",
    "- **Exponentiation (`**`)**: Raises the first number to the power of the second.\n",
    "- **Modulus (`%`)**: Returns the remainder when dividing the first number by the second.\n",
    "- **Floor Division (`//`)**: Divides the first number by the second and returns the integer part of the quotient.\n",
    "\n",
    "### Example:\n",
    "```python\n",
    "a = 10\n",
    "b = 3\n",
    "\n",
    "# Performing arithmetic operations\n",
    "addition = a + b        # 10 + 3 = 13\n",
    "subtraction = a - b     # 10 - 3 = 7\n",
    "multiplication = a * b  # 10 * 3 = 30\n",
    "division = a / b        # 10 / 3 = 3.333...\n",
    "exponentiation = a ** b # 10 ** 3 = 1000\n",
    "modulus = a % b         # 10 % 3 = 1\n",
    "floor_division = a // b # 10 // 3 = 3\n",
    "\n",
    "print(addition, subtraction, multiplication, division, exponentiation, modulus, floor_division)\n"
   ]
  },
  {
   "cell_type": "code",
   "execution_count": 3,
   "id": "c1add095",
   "metadata": {},
   "outputs": [
    {
     "data": {
      "text/plain": [
       "17"
      ]
     },
     "execution_count": 3,
     "metadata": {},
     "output_type": "execute_result"
    }
   ],
   "source": [
    "#This is a airthmetic expression to multiply 2 numbers and add 3rd number to the result of multiplication\n",
    "(3*4)+5"
   ]
  },
  {
   "cell_type": "code",
   "execution_count": 4,
   "id": "a99ff151",
   "metadata": {},
   "outputs": [
    {
     "name": "stdout",
     "output_type": "stream",
     "text": [
      "hours= 3.3333333333333335\n"
     ]
    }
   ],
   "source": [
    "hours = 200/60\n",
    "print(\"hours=\", str(hours))"
   ]
  },
  {
   "cell_type": "markdown",
   "id": "984b763d",
   "metadata": {},
   "source": [
    "## Author\n",
    "Vaibhav Jain"
   ]
  },
  {
   "cell_type": "code",
   "execution_count": null,
   "id": "e849634f",
   "metadata": {},
   "outputs": [],
   "source": []
  }
 ],
 "metadata": {
  "kernelspec": {
   "display_name": "Python 3 (ipykernel)",
   "language": "python",
   "name": "python3"
  },
  "language_info": {
   "codemirror_mode": {
    "name": "ipython",
    "version": 3
   },
   "file_extension": ".py",
   "mimetype": "text/x-python",
   "name": "python",
   "nbconvert_exporter": "python",
   "pygments_lexer": "ipython3",
   "version": "3.10.9"
  }
 },
 "nbformat": 4,
 "nbformat_minor": 5
}
